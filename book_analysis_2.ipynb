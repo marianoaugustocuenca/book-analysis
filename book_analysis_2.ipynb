{
 "cells": [
  {
   "cell_type": "markdown",
   "id": "b74d1d15-e490-47a1-9fb4-fa10ad7716a9",
   "metadata": {},
   "source": [
    "# Load the book"
   ]
  },
  {
   "cell_type": "code",
   "execution_count": null,
   "id": "37456516-47c5-48a5-9cdf-c596baa0aee4",
   "metadata": {},
   "outputs": [],
   "source": [
    "with open('miracle_in_the_andes.txt','r', encoding= 'utf-8') as file:\n",
    "    book = file.read()"
   ]
  },
  {
   "cell_type": "markdown",
   "id": "613173bc-5481-47fe-913d-7a67ba4ec6fb",
   "metadata": {},
   "source": [
    "# Extract paragraphs where 'love' was used"
   ]
  },
  {
   "cell_type": "code",
   "execution_count": null,
   "id": "12929d22-101c-4077-bbe3-f061ee326d5b",
   "metadata": {},
   "outputs": [],
   "source": [
    "import re\n",
    "pattern = re.compile('[^\\n]+love[^\\n]+')\n",
    "findings = re.findall(pattern, book)\n",
    "findings[:2]"
   ]
  },
  {
   "cell_type": "markdown",
   "id": "ec40218d-7ec2-45df-892f-992d51c29a40",
   "metadata": {
    "jp-MarkdownHeadingCollapsed": true
   },
   "source": [
    "# Extract chapter titles"
   ]
  },
  {
   "cell_type": "code",
   "execution_count": 14,
   "id": "99c2798c-b39b-4a5c-9660-94b9725ad755",
   "metadata": {},
   "outputs": [
    {
     "data": {
      "text/plain": [
       "['Before',\n",
       " 'Everything Precious',\n",
       " 'A Promise',\n",
       " 'Breathe Once More',\n",
       " 'Abandoned',\n",
       " 'Tomb',\n",
       " 'East',\n",
       " 'The Opposite of Death',\n",
       " 'I See a Man',\n",
       " 'After']"
      ]
     },
     "execution_count": 14,
     "metadata": {},
     "output_type": "execute_result"
    }
   ],
   "source": [
    "import re\n",
    "pattern = re.compile('([a-zA-Z ,]+)\\n\\n')\n",
    "findings = re.findall(pattern, book)\n",
    "findings"
   ]
  },
  {
   "cell_type": "markdown",
   "id": "90ab0834-65cb-41b7-9b8c-bd67c9a47d14",
   "metadata": {},
   "source": [
    "# Function that finds the occurrency of any word"
   ]
  },
  {
   "cell_type": "code",
   "execution_count": 15,
   "id": "f9460ca3-46d1-459e-b7bd-584e96ea804d",
   "metadata": {},
   "outputs": [],
   "source": [
    "def find(usrinput):\n",
    "    pattern = re.compile('[a-zA-Z]+')\n",
    "    findings = re.findall(pattern, book.lower())\n",
    "    \n",
    "    words = {}\n",
    "    for word in findings:\n",
    "        if word in words:\n",
    "            words[word] = words[word]+1\n",
    "        else:\n",
    "            words[word] = 1\n",
    "    try:        \n",
    "        usrinput = usrinput.lower()        \n",
    "        found = words[usrinput]\n",
    "        return found\n",
    "    except KeyError:\n",
    "        print('That word is not in the book')\n"
   ]
  },
  {
   "cell_type": "markdown",
   "id": "d8a6d6ba-0b71-4107-8870-7338061afcc4",
   "metadata": {},
   "source": [
    "# Call the function"
   ]
  },
  {
   "cell_type": "code",
   "execution_count": null,
   "id": "6aecd2f1-d76c-4718-b8dc-ec747ca7684c",
   "metadata": {},
   "outputs": [],
   "source": [
    "search = find ('roberto')\n",
    "search"
   ]
  },
  {
   "cell_type": "code",
   "execution_count": 17,
   "id": "e4717c0d-abc3-4d63-aa8a-6f6f407d7517",
   "metadata": {},
   "outputs": [
    {
     "name": "stdout",
     "output_type": "stream",
     "text": [
      "Esa palabra no esta en el libro\n"
     ]
    }
   ],
   "source": [
    "busqueda = find ('hate')\n",
    "busqueda"
   ]
  },
  {
   "cell_type": "code",
   "execution_count": null,
   "id": "1ba5546b-107d-4eda-9d91-92f8d5eeb7d5",
   "metadata": {},
   "outputs": [],
   "source": []
  }
 ],
 "metadata": {
  "kernelspec": {
   "display_name": "Python 3 (ipykernel)",
   "language": "python",
   "name": "python3"
  },
  "language_info": {
   "codemirror_mode": {
    "name": "ipython",
    "version": 3
   },
   "file_extension": ".py",
   "mimetype": "text/x-python",
   "name": "python",
   "nbconvert_exporter": "python",
   "pygments_lexer": "ipython3",
   "version": "3.8.10"
  }
 },
 "nbformat": 4,
 "nbformat_minor": 5
}
